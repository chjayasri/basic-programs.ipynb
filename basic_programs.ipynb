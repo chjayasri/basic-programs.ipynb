{
  "nbformat": 4,
  "nbformat_minor": 0,
  "metadata": {
    "colab": {
      "name": "basic programs.ipynb",
      "provenance": [],
      "collapsed_sections": []
    },
    "kernelspec": {
      "name": "python3",
      "display_name": "Python 3"
    },
    "language_info": {
      "name": "python"
    }
  },
  "cells": [
    {
      "cell_type": "code",
      "metadata": {
        "colab": {
          "base_uri": "https://localhost:8080/"
        },
        "id": "8ZdF533v2M01",
        "outputId": "81fd752f-03bc-4684-e4fd-bac557b67f33"
      },
      "source": [
        "a=5\n",
        "b=6\n",
        "print(a+b)"
      ],
      "execution_count": null,
      "outputs": [
        {
          "output_type": "stream",
          "text": [
            "11\n"
          ],
          "name": "stdout"
        }
      ]
    },
    {
      "cell_type": "code",
      "metadata": {
        "colab": {
          "base_uri": "https://localhost:8080/"
        },
        "id": "M_XiZjrL2SO1",
        "outputId": "37fb4998-6db3-4f9b-c554-994066234ebb"
      },
      "source": [
        "st=\"vishnu\"\n",
        "print(st[::-1])"
      ],
      "execution_count": null,
      "outputs": [
        {
          "output_type": "stream",
          "text": [
            "unhsiv\n"
          ],
          "name": "stdout"
        }
      ]
    },
    {
      "cell_type": "code",
      "metadata": {
        "colab": {
          "base_uri": "https://localhost:8080/"
        },
        "id": "aJpnI3yT2UpZ",
        "outputId": "579e1e61-a577-4445-e730-127db7d7678e"
      },
      "source": [
        "num=int(input())\n",
        "if (num%2==0):\n",
        "  print(\"even\")\n",
        "else:\n",
        "  print(\"odd\")"
      ],
      "execution_count": null,
      "outputs": [
        {
          "output_type": "stream",
          "text": [
            "11\n",
            "odd\n"
          ],
          "name": "stdout"
        }
      ]
    }
  ]
}